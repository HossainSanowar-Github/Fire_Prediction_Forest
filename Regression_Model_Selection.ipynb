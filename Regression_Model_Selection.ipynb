{
 "cells": [
  {
   "cell_type": "markdown",
   "id": "38a2e62f",
   "metadata": {},
   "source": [
    "# 1. Importing Libraries"
   ]
  },
  {
   "cell_type": "code",
   "execution_count": 13,
   "id": "11794a7f",
   "metadata": {},
   "outputs": [],
   "source": [
    "import pandas as pd\n",
    "import numpy as np\n",
    "import matplotlib.pyplot as plt\n",
    "import seaborn as sns\n",
    "\n",
    "from sklearn.linear_model import LinearRegression\n",
    "from sklearn.linear_model import Lasso\n",
    "from sklearn.linear_model import Ridge\n",
    "from sklearn.linear_model import ElasticNet\n",
    "from sklearn.svm import SVR\n",
    "from sklearn.neighbors import KNeighborsRegressor\n",
    "from sklearn.tree import DecisionTreeRegressor\n",
    "from sklearn.ensemble import RandomForestRegressor\n",
    "from sklearn.ensemble import AdaBoostRegressor\n",
    "#!pip install xgboost\n",
    "from xgboost import XGBRegressor\n",
    "\n",
    "from sklearn.model_selection import RandomizedSearchCV, GridSearchCV\n",
    "\n",
    "from sklearn.model_selection import train_test_split\n",
    "from sklearn.metrics import mean_absolute_error, r2_score\n",
    "from sklearn import metrics"
   ]
  },
  {
   "cell_type": "code",
   "execution_count": 2,
   "id": "c4a962bb",
   "metadata": {},
   "outputs": [
    {
     "name": "stdout",
     "output_type": "stream",
     "text": [
      "Algerian_forest_fires_dataset_UPDATE.csv\r\n",
      "EDA.csv\r\n",
      "EDA.ipynb\r\n",
      "Feature_Engineering.csv\r\n",
      "Feature_Engineering.ipynb\r\n",
      "Feature_Selection.csv\r\n",
      "Feature_Selection.ipynb\r\n",
      "LICENSE\r\n",
      "README.md\r\n",
      "Regression_Model_Selection.ipynb\r\n"
     ]
    }
   ],
   "source": [
    "ls"
   ]
  },
  {
   "cell_type": "markdown",
   "id": "7580dc74",
   "metadata": {},
   "source": [
    "# 2. Importing Dataset"
   ]
  },
  {
   "cell_type": "code",
   "execution_count": 3,
   "id": "5af898aa",
   "metadata": {},
   "outputs": [
    {
     "data": {
      "text/html": [
       "<div>\n",
       "<style scoped>\n",
       "    .dataframe tbody tr th:only-of-type {\n",
       "        vertical-align: middle;\n",
       "    }\n",
       "\n",
       "    .dataframe tbody tr th {\n",
       "        vertical-align: top;\n",
       "    }\n",
       "\n",
       "    .dataframe thead th {\n",
       "        text-align: right;\n",
       "    }\n",
       "</style>\n",
       "<table border=\"1\" class=\"dataframe\">\n",
       "  <thead>\n",
       "    <tr style=\"text-align: right;\">\n",
       "      <th></th>\n",
       "      <th>Temperature</th>\n",
       "      <th>RH</th>\n",
       "      <th>Ws</th>\n",
       "      <th>Rain</th>\n",
       "      <th>FFMC</th>\n",
       "      <th>DMC</th>\n",
       "      <th>DC</th>\n",
       "      <th>ISI</th>\n",
       "      <th>FWI</th>\n",
       "      <th>day</th>\n",
       "      <th>month</th>\n",
       "      <th>year</th>\n",
       "      <th>Classes</th>\n",
       "    </tr>\n",
       "  </thead>\n",
       "  <tbody>\n",
       "    <tr>\n",
       "      <th>0</th>\n",
       "      <td>-0.874735</td>\n",
       "      <td>-0.332478</td>\n",
       "      <td>0.986238</td>\n",
       "      <td>-0.671196</td>\n",
       "      <td>-0.949599</td>\n",
       "      <td>-0.974456</td>\n",
       "      <td>-0.930359</td>\n",
       "      <td>-0.844925</td>\n",
       "      <td>-0.894576</td>\n",
       "      <td>1.0</td>\n",
       "      <td>6.0</td>\n",
       "      <td>2012.0</td>\n",
       "      <td>0.0</td>\n",
       "    </tr>\n",
       "    <tr>\n",
       "      <th>1</th>\n",
       "      <td>-0.874735</td>\n",
       "      <td>-0.063185</td>\n",
       "      <td>-0.967025</td>\n",
       "      <td>2.027745</td>\n",
       "      <td>-1.047666</td>\n",
       "      <td>-0.911796</td>\n",
       "      <td>-0.930359</td>\n",
       "      <td>-0.918774</td>\n",
       "      <td>-0.908340</td>\n",
       "      <td>2.0</td>\n",
       "      <td>6.0</td>\n",
       "      <td>2012.0</td>\n",
       "      <td>0.0</td>\n",
       "    </tr>\n",
       "    <tr>\n",
       "      <th>2</th>\n",
       "      <td>-1.702005</td>\n",
       "      <td>1.350607</td>\n",
       "      <td>2.353522</td>\n",
       "      <td>2.027745</td>\n",
       "      <td>-2.304621</td>\n",
       "      <td>-1.055018</td>\n",
       "      <td>-0.941981</td>\n",
       "      <td>-1.091089</td>\n",
       "      <td>-0.949629</td>\n",
       "      <td>3.0</td>\n",
       "      <td>6.0</td>\n",
       "      <td>2012.0</td>\n",
       "      <td>0.0</td>\n",
       "    </tr>\n",
       "    <tr>\n",
       "      <th>3</th>\n",
       "      <td>-1.977761</td>\n",
       "      <td>1.821872</td>\n",
       "      <td>-0.967025</td>\n",
       "      <td>2.027745</td>\n",
       "      <td>-2.304621</td>\n",
       "      <td>-1.162435</td>\n",
       "      <td>-0.946630</td>\n",
       "      <td>-1.164937</td>\n",
       "      <td>-0.963392</td>\n",
       "      <td>4.0</td>\n",
       "      <td>6.0</td>\n",
       "      <td>2012.0</td>\n",
       "      <td>0.0</td>\n",
       "    </tr>\n",
       "    <tr>\n",
       "      <th>4</th>\n",
       "      <td>-1.426248</td>\n",
       "      <td>1.013990</td>\n",
       "      <td>0.204933</td>\n",
       "      <td>-0.671196</td>\n",
       "      <td>-1.017491</td>\n",
       "      <td>-1.010261</td>\n",
       "      <td>-0.776946</td>\n",
       "      <td>-0.869542</td>\n",
       "      <td>-0.894576</td>\n",
       "      <td>5.0</td>\n",
       "      <td>6.0</td>\n",
       "      <td>2012.0</td>\n",
       "      <td>0.0</td>\n",
       "    </tr>\n",
       "  </tbody>\n",
       "</table>\n",
       "</div>"
      ],
      "text/plain": [
       "   Temperature        RH        Ws      Rain      FFMC       DMC        DC  \\\n",
       "0    -0.874735 -0.332478  0.986238 -0.671196 -0.949599 -0.974456 -0.930359   \n",
       "1    -0.874735 -0.063185 -0.967025  2.027745 -1.047666 -0.911796 -0.930359   \n",
       "2    -1.702005  1.350607  2.353522  2.027745 -2.304621 -1.055018 -0.941981   \n",
       "3    -1.977761  1.821872 -0.967025  2.027745 -2.304621 -1.162435 -0.946630   \n",
       "4    -1.426248  1.013990  0.204933 -0.671196 -1.017491 -1.010261 -0.776946   \n",
       "\n",
       "        ISI       FWI  day  month    year  Classes  \n",
       "0 -0.844925 -0.894576  1.0    6.0  2012.0      0.0  \n",
       "1 -0.918774 -0.908340  2.0    6.0  2012.0      0.0  \n",
       "2 -1.091089 -0.949629  3.0    6.0  2012.0      0.0  \n",
       "3 -1.164937 -0.963392  4.0    6.0  2012.0      0.0  \n",
       "4 -0.869542 -0.894576  5.0    6.0  2012.0      0.0  "
      ]
     },
     "execution_count": 3,
     "metadata": {},
     "output_type": "execute_result"
    }
   ],
   "source": [
    "data=pd.read_csv(\"Feature_Selection.csv\")\n",
    "df=data.copy()\n",
    "df.head()"
   ]
  },
  {
   "cell_type": "markdown",
   "id": "a4990262",
   "metadata": {},
   "source": [
    "# 3. Train Test Split"
   ]
  },
  {
   "cell_type": "code",
   "execution_count": 4,
   "id": "f8edcf7d",
   "metadata": {},
   "outputs": [],
   "source": [
    "df.drop(['day','month','year','Classes'], axis=1, inplace=True)\n",
    "X = df.drop('FWI',axis=1)\n",
    "y= df['FWI']"
   ]
  },
  {
   "cell_type": "code",
   "execution_count": 5,
   "id": "773121eb",
   "metadata": {},
   "outputs": [
    {
     "data": {
      "text/plain": [
       "((195, 8), (49, 8))"
      ]
     },
     "execution_count": 5,
     "metadata": {},
     "output_type": "execute_result"
    }
   ],
   "source": [
    "# separate dataset into train and test\n",
    "X_train, X_test, y_train, y_test = train_test_split(X,y,test_size=0.2,random_state=0)\n",
    "X_train.shape, X_test.shape"
   ]
  },
  {
   "cell_type": "markdown",
   "id": "72366412",
   "metadata": {},
   "source": [
    "# 4. Regressor Model Build"
   ]
  },
  {
   "cell_type": "code",
   "execution_count": 6,
   "id": "7e48e5a1",
   "metadata": {},
   "outputs": [],
   "source": [
    "#Regression model\n",
    "regressors =   [LinearRegression(), \n",
    "               Lasso(),\n",
    "               Ridge(), \n",
    "               ElasticNet(),\n",
    "               SVR(),\n",
    "               KNeighborsRegressor(),\n",
    "               DecisionTreeRegressor(),\n",
    "               RandomForestRegressor(),\n",
    "               AdaBoostRegressor(),\n",
    "               XGBRegressor()]"
   ]
  },
  {
   "cell_type": "code",
   "execution_count": 7,
   "id": "cb5765e8",
   "metadata": {},
   "outputs": [
    {
     "name": "stdout",
     "output_type": "stream",
     "text": [
      "LinearRegression() : trained\n",
      "Lasso() : trained\n",
      "Ridge() : trained\n",
      "ElasticNet() : trained\n",
      "SVR() : trained\n",
      "KNeighborsRegressor() : trained\n",
      "DecisionTreeRegressor() : trained\n",
      "RandomForestRegressor() : trained\n",
      "AdaBoostRegressor() : trained\n",
      "XGBRegressor(base_score=0.5, booster='gbtree', callbacks=None,\n",
      "             colsample_bylevel=1, colsample_bynode=1, colsample_bytree=1,\n",
      "             early_stopping_rounds=None, enable_categorical=False,\n",
      "             eval_metric=None, gamma=0, gpu_id=-1, grow_policy='depthwise',\n",
      "             importance_type=None, interaction_constraints='',\n",
      "             learning_rate=0.300000012, max_bin=256, max_cat_to_onehot=4,\n",
      "             max_delta_step=0, max_depth=6, max_leaves=0, min_child_weight=1,\n",
      "             missing=nan, monotone_constraints='()', n_estimators=100, n_jobs=0,\n",
      "             num_parallel_tree=1, predictor='auto', random_state=0, reg_alpha=0,\n",
      "             reg_lambda=1, ...) : trained\n"
     ]
    }
   ],
   "source": [
    "for model in regressors:\n",
    "    model.fit(X_train, y_train)\n",
    "    print(model,': trained')"
   ]
  },
  {
   "cell_type": "code",
   "execution_count": 8,
   "id": "b0ceb3bf",
   "metadata": {},
   "outputs": [],
   "source": [
    "# Model Evaluation\n",
    "# creating lists of varios scores\n",
    "mae =[]\n",
    "r2 =[]\n",
    "trainset_accuracy = []\n",
    "testset_accuracy = []\n",
    "\n",
    "for model in regressors:\n",
    "    #print(model)\n",
    "    model.fit(X_train, y_train)\n",
    "    #pred_train = model.predict(X_train)\n",
    "    pred_test = model.predict(X_test)\n",
    "    mae_score = mean_absolute_error(y_test, pred_test)\n",
    "    r2_value = r2_score(y_test, pred_test)\n",
    "    train_accuracy = model.score(X_train,y_train)\n",
    "    test_accuracy = model.score(X_test,y_test)\n",
    "    \n",
    "    #Appending scores\n",
    "    mae.append(mae_score)\n",
    "    r2.append(r2_value)\n",
    "   \n",
    "    trainset_accuracy.append(train_accuracy)\n",
    "    testset_accuracy.append(test_accuracy)"
   ]
  },
  {
   "cell_type": "code",
   "execution_count": 9,
   "id": "14163a76",
   "metadata": {},
   "outputs": [],
   "source": [
    "# initialise data of lists.\n",
    "data = {'MAE':mae,\n",
    "'r2_score':r2,\n",
    "'Accuracy on Testset':testset_accuracy,\n",
    "'Accuracy on Trainset':trainset_accuracy}\n",
    "# Creates pandas DataFrame.\n",
    "Results = pd.DataFrame(data, index =[\"LinearRegression\",\"Lasso\",\"Ridge\",\"ElasticNet\",\"SVR\",\n",
    "             \"KNeighborsRegressor\",\"DecisionTreeRegressor\",'RandomForestRegressor',\n",
    "            \"AdaBoostRegressor\",\"XGBRegressor\"])\n"
   ]
  },
  {
   "cell_type": "code",
   "execution_count": 10,
   "id": "26d90ac4",
   "metadata": {},
   "outputs": [
    {
     "data": {
      "text/html": [
       "<style type=\"text/css\">\n",
       "#T_c49b5_row0_col0, #T_c49b5_row1_col1, #T_c49b5_row1_col2, #T_c49b5_row1_col3, #T_c49b5_row2_col0, #T_c49b5_row4_col0, #T_c49b5_row5_col0, #T_c49b5_row6_col0, #T_c49b5_row7_col0, #T_c49b5_row8_col0, #T_c49b5_row9_col0 {\n",
       "  background-color: #e2ccff;\n",
       "  color: #000000;\n",
       "}\n",
       "#T_c49b5_row0_col1, #T_c49b5_row0_col2, #T_c49b5_row0_col3, #T_c49b5_row1_col0, #T_c49b5_row2_col1, #T_c49b5_row2_col2, #T_c49b5_row2_col3, #T_c49b5_row3_col0, #T_c49b5_row3_col1, #T_c49b5_row3_col2, #T_c49b5_row3_col3, #T_c49b5_row4_col1, #T_c49b5_row4_col2, #T_c49b5_row4_col3, #T_c49b5_row5_col1, #T_c49b5_row5_col2, #T_c49b5_row5_col3, #T_c49b5_row6_col1, #T_c49b5_row6_col2, #T_c49b5_row6_col3, #T_c49b5_row7_col1, #T_c49b5_row7_col2, #T_c49b5_row7_col3, #T_c49b5_row8_col1, #T_c49b5_row8_col2, #T_c49b5_row8_col3, #T_c49b5_row9_col1, #T_c49b5_row9_col2, #T_c49b5_row9_col3 {\n",
       "  background-color: #e598d8;\n",
       "  color: #000000;\n",
       "}\n",
       "</style>\n",
       "<table id=\"T_c49b5_\">\n",
       "  <thead>\n",
       "    <tr>\n",
       "      <th class=\"blank level0\" >&nbsp;</th>\n",
       "      <th class=\"col_heading level0 col0\" >MAE</th>\n",
       "      <th class=\"col_heading level0 col1\" >r2_score</th>\n",
       "      <th class=\"col_heading level0 col2\" >Accuracy on Testset</th>\n",
       "      <th class=\"col_heading level0 col3\" >Accuracy on Trainset</th>\n",
       "    </tr>\n",
       "  </thead>\n",
       "  <tbody>\n",
       "    <tr>\n",
       "      <th id=\"T_c49b5_level0_row0\" class=\"row_heading level0 row0\" >LinearRegression</th>\n",
       "      <td id=\"T_c49b5_row0_col0\" class=\"data row0 col0\" >0.073232</td>\n",
       "      <td id=\"T_c49b5_row0_col1\" class=\"data row0 col1\" >0.972315</td>\n",
       "      <td id=\"T_c49b5_row0_col2\" class=\"data row0 col2\" >0.972315</td>\n",
       "      <td id=\"T_c49b5_row0_col3\" class=\"data row0 col3\" >0.977872</td>\n",
       "    </tr>\n",
       "    <tr>\n",
       "      <th id=\"T_c49b5_level0_row1\" class=\"row_heading level0 row1\" >Lasso</th>\n",
       "      <td id=\"T_c49b5_row1_col0\" class=\"data row1 col0\" >0.742351</td>\n",
       "      <td id=\"T_c49b5_row1_col1\" class=\"data row1 col1\" >-0.044135</td>\n",
       "      <td id=\"T_c49b5_row1_col2\" class=\"data row1 col2\" >-0.044135</td>\n",
       "      <td id=\"T_c49b5_row1_col3\" class=\"data row1 col3\" >0.000000</td>\n",
       "    </tr>\n",
       "    <tr>\n",
       "      <th id=\"T_c49b5_level0_row2\" class=\"row_heading level0 row2\" >Ridge</th>\n",
       "      <td id=\"T_c49b5_row2_col0\" class=\"data row2 col0\" >0.073381</td>\n",
       "      <td id=\"T_c49b5_row2_col1\" class=\"data row2 col1\" >0.971762</td>\n",
       "      <td id=\"T_c49b5_row2_col2\" class=\"data row2 col2\" >0.971762</td>\n",
       "      <td id=\"T_c49b5_row2_col3\" class=\"data row2 col3\" >0.977822</td>\n",
       "    </tr>\n",
       "    <tr>\n",
       "      <th id=\"T_c49b5_level0_row3\" class=\"row_heading level0 row3\" >ElasticNet</th>\n",
       "      <td id=\"T_c49b5_row3_col0\" class=\"data row3 col0\" >0.476139</td>\n",
       "      <td id=\"T_c49b5_row3_col1\" class=\"data row3 col1\" >0.561923</td>\n",
       "      <td id=\"T_c49b5_row3_col2\" class=\"data row3 col2\" >0.561923</td>\n",
       "      <td id=\"T_c49b5_row3_col3\" class=\"data row3 col3\" >0.591135</td>\n",
       "    </tr>\n",
       "    <tr>\n",
       "      <th id=\"T_c49b5_level0_row4\" class=\"row_heading level0 row4\" >SVR</th>\n",
       "      <td id=\"T_c49b5_row4_col0\" class=\"data row4 col0\" >0.099269</td>\n",
       "      <td id=\"T_c49b5_row4_col1\" class=\"data row4 col1\" >0.941164</td>\n",
       "      <td id=\"T_c49b5_row4_col2\" class=\"data row4 col2\" >0.941164</td>\n",
       "      <td id=\"T_c49b5_row4_col3\" class=\"data row4 col3\" >0.989219</td>\n",
       "    </tr>\n",
       "    <tr>\n",
       "      <th id=\"T_c49b5_level0_row5\" class=\"row_heading level0 row5\" >KNeighborsRegressor</th>\n",
       "      <td id=\"T_c49b5_row5_col0\" class=\"data row5 col0\" >0.126958</td>\n",
       "      <td id=\"T_c49b5_row5_col1\" class=\"data row5 col1\" >0.936130</td>\n",
       "      <td id=\"T_c49b5_row5_col2\" class=\"data row5 col2\" >0.936130</td>\n",
       "      <td id=\"T_c49b5_row5_col3\" class=\"data row5 col3\" >0.976884</td>\n",
       "    </tr>\n",
       "    <tr>\n",
       "      <th id=\"T_c49b5_level0_row6\" class=\"row_heading level0 row6\" >DecisionTreeRegressor</th>\n",
       "      <td id=\"T_c49b5_row6_col0\" class=\"data row6 col0\" >0.096342</td>\n",
       "      <td id=\"T_c49b5_row6_col1\" class=\"data row6 col1\" >0.975822</td>\n",
       "      <td id=\"T_c49b5_row6_col2\" class=\"data row6 col2\" >0.975822</td>\n",
       "      <td id=\"T_c49b5_row6_col3\" class=\"data row6 col3\" >1.000000</td>\n",
       "    </tr>\n",
       "    <tr>\n",
       "      <th id=\"T_c49b5_level0_row7\" class=\"row_heading level0 row7\" >RandomForestRegressor</th>\n",
       "      <td id=\"T_c49b5_row7_col0\" class=\"data row7 col0\" >0.079817</td>\n",
       "      <td id=\"T_c49b5_row7_col1\" class=\"data row7 col1\" >0.975934</td>\n",
       "      <td id=\"T_c49b5_row7_col2\" class=\"data row7 col2\" >0.975934</td>\n",
       "      <td id=\"T_c49b5_row7_col3\" class=\"data row7 col3\" >0.997053</td>\n",
       "    </tr>\n",
       "    <tr>\n",
       "      <th id=\"T_c49b5_level0_row8\" class=\"row_heading level0 row8\" >AdaBoostRegressor</th>\n",
       "      <td id=\"T_c49b5_row8_col0\" class=\"data row8 col0\" >0.178461</td>\n",
       "      <td id=\"T_c49b5_row8_col1\" class=\"data row8 col1\" >0.934368</td>\n",
       "      <td id=\"T_c49b5_row8_col2\" class=\"data row8 col2\" >0.934368</td>\n",
       "      <td id=\"T_c49b5_row8_col3\" class=\"data row8 col3\" >0.981691</td>\n",
       "    </tr>\n",
       "    <tr>\n",
       "      <th id=\"T_c49b5_level0_row9\" class=\"row_heading level0 row9\" >XGBRegressor</th>\n",
       "      <td id=\"T_c49b5_row9_col0\" class=\"data row9 col0\" >0.074775</td>\n",
       "      <td id=\"T_c49b5_row9_col1\" class=\"data row9 col1\" >0.975187</td>\n",
       "      <td id=\"T_c49b5_row9_col2\" class=\"data row9 col2\" >0.975187</td>\n",
       "      <td id=\"T_c49b5_row9_col3\" class=\"data row9 col3\" >0.999999</td>\n",
       "    </tr>\n",
       "  </tbody>\n",
       "</table>\n"
      ],
      "text/plain": [
       "<pandas.io.formats.style.Styler at 0x106498310>"
      ]
     },
     "execution_count": 10,
     "metadata": {},
     "output_type": "execute_result"
    }
   ],
   "source": [
    "from matplotlib.colors import ListedColormap\n",
    "cmap2 = ListedColormap([\"#E2CCFF\",\"#E598D8\"])\n",
    "Results.style.background_gradient(cmap=cmap2)"
   ]
  },
  {
   "cell_type": "code",
   "execution_count": 11,
   "id": "d1c0b4c5",
   "metadata": {},
   "outputs": [
    {
     "name": "stdout",
     "output_type": "stream",
     "text": [
      "Lasso Regression:\n",
      "Train Accuracy:  0.9999988737314045\n",
      "Test Accuracy:  0.975187214439413\n",
      "R2 Score value: -0.0441\n",
      "MAE value: 0.7424\n"
     ]
    }
   ],
   "source": [
    "from sklearn.linear_model import Lasso\n",
    "from sklearn.metrics import mean_absolute_error, r2_score\n",
    "\n",
    "\n",
    "lasso = Lasso()\n",
    "lasso.fit(X_train, y_train)\n",
    "lasso_pred = lasso.predict(X_test)\n",
    "mae = mean_absolute_error(y_test, lasso_pred)\n",
    "r2 = r2_score(y_test, lasso_pred)\n",
    "\n",
    "train_accuracy = model.score(X_train,y_train)\n",
    "test_accuracy = model.score(X_test,y_test)\n",
    "print(\"Lasso Regression:\")\n",
    "print(\"Train Accuracy: \",train_accuracy)\n",
    "print(\"Test Accuracy: \",test_accuracy)\n",
    "print (\"R2 Score value: {:.4f}\".format(r2))\n",
    "print (\"MAE value: {:.4f}\".format(mae))"
   ]
  },
  {
   "cell_type": "markdown",
   "id": "2323bc95",
   "metadata": {},
   "source": [
    "# 5. Hyper-Parameter Tuning"
   ]
  },
  {
   "cell_type": "markdown",
   "id": "fb6dd00d",
   "metadata": {},
   "source": [
    "## 5.1 Random Forest Regressor"
   ]
  },
  {
   "cell_type": "code",
   "execution_count": 14,
   "id": "1d71b4f1",
   "metadata": {},
   "outputs": [
    {
     "name": "stdout",
     "output_type": "stream",
     "text": [
      "Fitting 10 folds for each of 10 candidates, totalling 100 fits\n"
     ]
    },
    {
     "data": {
      "text/plain": [
       "RandomizedSearchCV(cv=10, estimator=RandomForestRegressor(), n_jobs=-1,\n",
       "                   param_distributions=[{'bootstrap': [True, False],\n",
       "                                         'max_depth': [10, 20, 30, 40, 50, 60,\n",
       "                                                       70, 80, 90, 100, 110,\n",
       "                                                       120],\n",
       "                                         'max_features': ['auto', 'sqrt'],\n",
       "                                         'min_samples_leaf': [1, 3, 4],\n",
       "                                         'min_samples_split': [2, 6, 10],\n",
       "                                         'n_estimators': [5, 20, 50, 100]}],\n",
       "                   verbose=2)"
      ]
     },
     "execution_count": 14,
     "metadata": {},
     "output_type": "execute_result"
    }
   ],
   "source": [
    "parameters =[{'bootstrap': [True, False],\n",
    "'max_depth': [10, 20, 30, 40, 50, 60, 70, 80, 90, 100, 110,120],\n",
    "'max_features': ['auto', 'sqrt'],\n",
    "'min_samples_leaf': [1, 3, 4],\n",
    "'min_samples_split': [2, 6, 10],\n",
    "'n_estimators': [5, 20, 50, 100]}]\n",
    "\n",
    "random_forest = RandomForestRegressor()\n",
    "Random_forest_reg = RandomizedSearchCV(random_forest,parameters, cv = 10, verbose=2,n_jobs = -1)\n",
    "Random_forest_reg.fit(X_train, y_train)"
   ]
  },
  {
   "cell_type": "code",
   "execution_count": 22,
   "id": "24231718",
   "metadata": {},
   "outputs": [
    {
     "name": "stdout",
     "output_type": "stream",
     "text": [
      "Random Forest Results After Tuned: \n",
      "\n",
      "Train Accuracy:  1.0\n",
      "Test Accuracy:  0.9812507038344196\n",
      "R2 Score value: 0.9813\n",
      "MAE value: 0.0736\n"
     ]
    }
   ],
   "source": [
    "best_random_grid=Random_forest_reg.best_estimator_\n",
    "\n",
    "bestrf_pred = best_random_grid.predict(X_test)\n",
    "mae = mean_absolute_error(y_test, bestrf_pred)\n",
    "r2 = r2_score(y_test, bestrf_pred)\n",
    "\n",
    "train_accuracy = Random_forest_reg.score(X_train,y_train)\n",
    "test_accuracy = Random_forest_reg.score(X_test,y_test)\n",
    "print(\"Random Forest Results After Tuned: \")\n",
    "print()\n",
    "print(\"Train Accuracy: \",train_accuracy)\n",
    "print(\"Test Accuracy: \",test_accuracy)\n",
    "\n",
    "print (\"R2 Score value: {:.4f}\".format(r2))\n",
    "print (\"MAE value: {:.4f}\".format(mae))"
   ]
  },
  {
   "cell_type": "markdown",
   "id": "caf51ed5",
   "metadata": {},
   "source": [
    "# 5.2 Feature removal"
   ]
  },
  {
   "cell_type": "code",
   "execution_count": 23,
   "id": "f2921307",
   "metadata": {},
   "outputs": [
    {
     "data": {
      "text/html": [
       "<div>\n",
       "<style scoped>\n",
       "    .dataframe tbody tr th:only-of-type {\n",
       "        vertical-align: middle;\n",
       "    }\n",
       "\n",
       "    .dataframe tbody tr th {\n",
       "        vertical-align: top;\n",
       "    }\n",
       "\n",
       "    .dataframe thead th {\n",
       "        text-align: right;\n",
       "    }\n",
       "</style>\n",
       "<table border=\"1\" class=\"dataframe\">\n",
       "  <thead>\n",
       "    <tr style=\"text-align: right;\">\n",
       "      <th></th>\n",
       "      <th>feature</th>\n",
       "      <th>importance</th>\n",
       "    </tr>\n",
       "  </thead>\n",
       "  <tbody>\n",
       "    <tr>\n",
       "      <th>7</th>\n",
       "      <td>ISI</td>\n",
       "      <td>0.360493</td>\n",
       "    </tr>\n",
       "    <tr>\n",
       "      <th>4</th>\n",
       "      <td>FFMC</td>\n",
       "      <td>0.196279</td>\n",
       "    </tr>\n",
       "    <tr>\n",
       "      <th>5</th>\n",
       "      <td>DMC</td>\n",
       "      <td>0.191922</td>\n",
       "    </tr>\n",
       "    <tr>\n",
       "      <th>6</th>\n",
       "      <td>DC</td>\n",
       "      <td>0.100044</td>\n",
       "    </tr>\n",
       "    <tr>\n",
       "      <th>3</th>\n",
       "      <td>Rain</td>\n",
       "      <td>0.063114</td>\n",
       "    </tr>\n",
       "    <tr>\n",
       "      <th>1</th>\n",
       "      <td>RH</td>\n",
       "      <td>0.049575</td>\n",
       "    </tr>\n",
       "    <tr>\n",
       "      <th>0</th>\n",
       "      <td>Temperature</td>\n",
       "      <td>0.029202</td>\n",
       "    </tr>\n",
       "    <tr>\n",
       "      <th>2</th>\n",
       "      <td>Ws</td>\n",
       "      <td>0.009371</td>\n",
       "    </tr>\n",
       "  </tbody>\n",
       "</table>\n",
       "</div>"
      ],
      "text/plain": [
       "       feature  importance\n",
       "7          ISI    0.360493\n",
       "4         FFMC    0.196279\n",
       "5          DMC    0.191922\n",
       "6           DC    0.100044\n",
       "3         Rain    0.063114\n",
       "1           RH    0.049575\n",
       "0  Temperature    0.029202\n",
       "2           Ws    0.009371"
      ]
     },
     "execution_count": 23,
     "metadata": {},
     "output_type": "execute_result"
    }
   ],
   "source": [
    "feature_importances = Random_forest_reg.best_estimator_.feature_importances_\n",
    "importance_df = pd.DataFrame({\n",
    "    'feature': X_train.columns,\n",
    "    'importance': feature_importances\n",
    "}).sort_values('importance', ascending=False)\n",
    "importance_df"
   ]
  },
  {
   "cell_type": "code",
   "execution_count": 24,
   "id": "476fd5b3",
   "metadata": {},
   "outputs": [
    {
     "data": {
      "text/plain": [
       "Text(0, 0.5, 'Features')"
      ]
     },
     "execution_count": 24,
     "metadata": {},
     "output_type": "execute_result"
    },
    {
     "data": {
      "image/png": "[encoded data removed]",
      "text/plain": [
       "<Figure size 864x432 with 1 Axes>"
      ]
     },
     "metadata": {
      "needs_background": "light"
     },
     "output_type": "display_data"
    }
   ],
   "source": [
    "plt.figure(figsize=(12,6))\n",
    "sns.set_style('ticks')\n",
    "ax = sns.barplot(data=importance_df, x='importance', y='feature',ec = 'black')\n",
    "ax.set_title('Top 10 Important Features', weight='bold',fontsize = 15)\n",
    "ax.set_xlabel('Feature Importance %',weight='bold')\n",
    "ax.set_ylabel('Features',weight='bold')"
   ]
  },
  {
   "cell_type": "code",
   "execution_count": null,
   "id": "ec8d57ce",
   "metadata": {},
   "outputs": [],
   "source": [
    "import pickle\n",
    "file = bz2.BZ2File('regression.pkl','wb')\n",
    "pickle.dump(best_random_grid,file)\n",
    "file.close()"
   ]
  }
 ],
 "metadata": {
  "kernelspec": {
   "display_name": "Python 3.9 (tensorflow)",
   "language": "python",
   "name": "tensorflow"
  },
  "language_info": {
   "codemirror_mode": {
    "name": "ipython",
    "version": 3
   },
   "file_extension": ".py",
   "mimetype": "text/x-python",
   "name": "python",
   "nbconvert_exporter": "python",
   "pygments_lexer": "ipython3",
   "version": "3.9.7"
  }
 },
 "nbformat": 4,
 "nbformat_minor": 5
}
