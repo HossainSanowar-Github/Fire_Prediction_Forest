{
 "cells": [
  {
   "cell_type": "markdown",
   "id": "7c2b8099",
   "metadata": {},
   "source": [
    "# 1. Importing Libraries"
   ]
  },
  {
   "cell_type": "code",
   "execution_count": 1,
   "id": "bcc3e934",
   "metadata": {},
   "outputs": [],
   "source": [
    "import pandas as pd\n",
    "import numpy as np\n",
    "import matplotlib.pyplot as plt\n",
    "import seaborn as sns"
   ]
  },
  {
   "cell_type": "markdown",
   "id": "16b514eb",
   "metadata": {},
   "source": [
    "# 2. Importing dataset after Feature Engineering "
   ]
  },
  {
   "cell_type": "code",
   "execution_count": null,
   "id": "f198100a",
   "metadata": {},
   "outputs": [],
   "source": [
    "df_correlation = df.drop(columns=['year']).corr()\n",
    "plt.figure(figsize=(10,5))\n",
    "sns.heatmap(df_correlation,annot=True)"
   ]
  },
  {
   "cell_type": "code",
   "execution_count": null,
   "id": "7a373adf",
   "metadata": {},
   "outputs": [],
   "source": [
    "sns.catplot(x = 'Classes', y = 'Rain', data = df)"
   ]
  },
  {
   "cell_type": "code",
   "execution_count": null,
   "id": "cbc3490e",
   "metadata": {},
   "outputs": [],
   "source": [
    "sns.catplot(x = 'Classes', y = 'BUI', data = df)"
   ]
  },
  {
   "cell_type": "code",
   "execution_count": null,
   "id": "bfc34508",
   "metadata": {},
   "outputs": [],
   "source": [
    "sns.catplot(x = 'Classes', y = 'DMC', data = df)"
   ]
  },
  {
   "cell_type": "code",
   "execution_count": null,
   "id": "61361f88",
   "metadata": {},
   "outputs": [],
   "source": [
    "sns.catplot(x = 'DMC', y = 'BUI', data = df)"
   ]
  },
  {
   "cell_type": "code",
   "execution_count": null,
   "id": "8af84760",
   "metadata": {},
   "outputs": [],
   "source": [
    "`Observation`: Strong correlation between BUI and DMC which value is 0.98"
   ]
  },
  {
   "cell_type": "code",
   "execution_count": null,
   "id": "6e9cb7fc",
   "metadata": {},
   "outputs": [],
   "source": []
  },
  {
   "cell_type": "code",
   "execution_count": null,
   "id": "b5a818e2",
   "metadata": {},
   "outputs": [],
   "source": []
  }
 ],
 "metadata": {
  "kernelspec": {
   "display_name": "Python 3.9 (tensorflow)",
   "language": "python",
   "name": "tensorflow"
  },
  "language_info": {
   "codemirror_mode": {
    "name": "ipython",
    "version": 3
   },
   "file_extension": ".py",
   "mimetype": "text/x-python",
   "name": "python",
   "nbconvert_exporter": "python",
   "pygments_lexer": "ipython3",
   "version": "3.9.7"
  }
 },
 "nbformat": 4,
 "nbformat_minor": 5
}
